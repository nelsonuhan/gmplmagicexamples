{
 "cells": [
  {
   "cell_type": "markdown",
   "metadata": {},
   "source": [
    "# Using Data in GMPL Magic"
   ]
  },
  {
   "cell_type": "markdown",
   "metadata": {},
   "source": [
    "This example is based on the American Engine Co. example in \"Deterministic Operations Research: Models and Methods\" by David J. Rader (Wiley, 2010)."
   ]
  },
  {
   "cell_type": "markdown",
   "metadata": {},
   "source": [
    "> American Engine Co. produces two engines, one for trucks and one for cars.\n",
    "During the next 3 months, they anticipate the following demands for their engines:\n",
    "\n",
    "<table>\n",
    "    <tr>\n",
    "        <td></td>\n",
    "        <td>Month 1</td>\n",
    "        <td>Month 2</td>\n",
    "        <td>Month 3</td>\n",
    "    </tr>\n",
    "    <tr>\n",
    "        <td>Truck engines</td>\n",
    "        <td>400</td>\n",
    "        <td>300</td>\n",
    "        <td>500</td>\n",
    "    </tr>\n",
    "    <tr>\n",
    "        <td>Car engines</td>\n",
    "        <td>800</td>\n",
    "        <td>500</td>\n",
    "        <td>600</td>\n",
    "    </tr>\n",
    "</table>\n",
    "\n",
    "> Each month's demand must be fully satisfied.\n",
    "During each month, at most 1000 engines (combined) can be produced.\n",
    "Each truck engine requires 10 hours of labor to produce and costs \\$2000 in supplies,\n",
    "while each car engine requires 8 hours of labor and costs \\$1500 in supplies.\n",
    "At most 9000 hours are available each month.\n",
    "At the beginning of month 1, 100 truck engines and 200 car engines are inventory.\n",
    "At the end of each month, a holding cost of \\$150 per engine is assigned to any engine in inventory.\n",
    "At the end of the third month, management wants to have at least 100 of each engine in inventory.\n",
    "How can we meet monthly demand at a minimum cost?"
   ]
  },
  {
   "cell_type": "markdown",
   "metadata": {},
   "source": [
    "This problem can be solved with the following linear program:"
   ]
  },
  {
   "cell_type": "markdown",
   "metadata": {},
   "source": [
    "**Sets:**\n",
    "$$\n",
    "\\begin{aligned}\n",
    "E & = \\text{set of engine types}\\\\\n",
    "T & = \\text{set of time periods (months)}\n",
    "\\end{aligned}\n",
    "$$"
   ]
  },
  {
   "cell_type": "markdown",
   "metadata": {},
   "source": [
    "**Parameters:**\n",
    "$$\n",
    "\\begin{alignedat}{2}\n",
    "    d_{e,t} & = \\text{demand for type $e$ engines in month $t$} &\\quad& \\text{for } e \\in E, t \\in T\\\\\n",
    "    a_{e} & = \\text{labor required to produce one type $e$ engine} &\\quad& \\text{for } e \\in E\\\\\n",
    "    c_{e} & = \\text{cost of producing one type $e$ engine} &\\quad& \\text{for } e \\in E\\\\\n",
    "    I_{e,0} & = \\text{initial inventory of type $e$ engines} &\\quad& \\text{for } e \\in E\n",
    "\\end{alignedat}\n",
    "$$"
   ]
  },
  {
   "cell_type": "markdown",
   "metadata": {},
   "source": [
    "**Decision variables:**\n",
    "$$\n",
    "\\begin{alignedat}{2}\n",
    "    x_{e, t} & = \\text{number of type $e$ engines to produce in month $t$} &\\quad& \\text{for } e \\in E, t \\in T\\\\\n",
    "    y_{e, t} & = \\text{number of type $e$ engines in inventory at the end of month $t$} &\\quad& \\text{for } e \\in E, t \\in T \\cup \\{0\\}\n",
    "\\end{alignedat}\n",
    "$$"
   ]
  },
  {
   "cell_type": "markdown",
   "metadata": {},
   "source": [
    "**Objective function and constraints:**\n",
    "$$\n",
    "\\begin{alignedat}{2}\n",
    "\\text{minimize} \\quad & 150 \\sum_{e \\in E} \\sum_{t \\in T} y_{e,t} + \\sum_{e \\in E} c_e \\sum_{t \\in T} x_{e,t}\\\\\n",
    "\\text{subject to} \\quad & \\sum_{e \\in E} x_{e,t} \\le 1000 &\\quad& \\text{for } t \\in T\\\\\n",
    "& \\sum_{e \\in E} a_{e} x_{e,t} \\le 9000 &\\quad& \\text{for } t \\in T\\\\\n",
    "& y_{e,t-1} + x_{e,t} = d_{e,t} + y_{e,t} &\\quad& \\text{for } e \\in E, t \\in T\\\\\n",
    "& y_{e,0} = I_{e,0} &\\quad& \\text{for } e \\in E\\\\\n",
    "& y_{e,3} \\ge 100 &\\quad& \\text{for } e \\in E\n",
    "\\end{alignedat}\n",
    "$$"
   ]
  },
  {
   "cell_type": "markdown",
   "metadata": {},
   "source": [
    "## Before we get started..."
   ]
  },
  {
   "cell_type": "markdown",
   "metadata": {},
   "source": [
    "First, we need to load GMPL Magic: "
   ]
  },
  {
   "cell_type": "code",
   "execution_count": null,
   "metadata": {
    "collapsed": false
   },
   "outputs": [],
   "source": [
    "%load_ext gmplmagic"
   ]
  },
  {
   "cell_type": "markdown",
   "metadata": {},
   "source": [
    "## Defining a GMPL model"
   ]
  },
  {
   "cell_type": "markdown",
   "metadata": {},
   "source": [
    "Below, we create a model called `american` based on the linear program above:"
   ]
  },
  {
   "cell_type": "code",
   "execution_count": null,
   "metadata": {
    "collapsed": false
   },
   "outputs": [],
   "source": [
    "%%model american\n",
    "\n",
    "# Sets\n",
    "set E;    # set of engine types\n",
    "set T;    # set of time periods (months)\n",
    "\n",
    "# Parameters\n",
    "param d{e in E, t in T};    # demand for type e engines in month t\n",
    "param a{e in E};            # labor required to produce one type e engine\n",
    "param c{e in E};            # cost of producing one type e engine\n",
    "param I0{e in E};           # initial inventory of type e engines\n",
    "\n",
    "# Decision variables\n",
    "var x{e in E, t in T} >= 0;             # number of type e engines to produce in month t\n",
    "var y{e in E, t in T union {0}} >= 0;   # number of type e engines in inventory at the end of month t\n",
    "\n",
    "# Objective function\n",
    "maximize total_cost: 150 * sum{t in T, e in E} y[e,t] + sum{e in E, t in T} c[e] * x[e,t];\n",
    "\n",
    "# Constraints\n",
    "subject to engines_per_month{t in T}:\n",
    "    sum{e in E} x[e,t] <= 1000;\n",
    "\n",
    "subject to labor_per_month{t in T}:\n",
    "    sum{e in E} a[e] * x[e,t] <= 9000;\n",
    "\n",
    "subject to balance{e in E, t in T}:\n",
    "    y[e,t-1] + x[e,t] = d[e,t] + y[e,t];\n",
    "\n",
    "subject to initial_inventory{e in E}:\n",
    "    y[e,0] = I0[e];\n",
    "    \n",
    "subject to ending_inventory{e in E}:\n",
    "    y[e,3] >= 100;\n",
    "    \n",
    "end;"
   ]
  },
  {
   "cell_type": "markdown",
   "metadata": {},
   "source": [
    "## Defining GMPL data"
   ]
  },
  {
   "cell_type": "markdown",
   "metadata": {},
   "source": [
    "GMPL Magic has a cell magic __`%%data`__. Below, we create a GMPL data section called `american_data` based on the problem description and linear program above:"
   ]
  },
  {
   "cell_type": "code",
   "execution_count": null,
   "metadata": {
    "collapsed": false
   },
   "outputs": [],
   "source": [
    "%%data american_data\n",
    "\n",
    "# Sets\n",
    "set E := \"truck\" \"car\";\n",
    "set T := 1 2 3;\n",
    "\n",
    "# Parameters\n",
    "param d :\n",
    "        1   2   3 :=\n",
    "truck 400 300 500\n",
    "car   800 500 600;\n",
    "\n",
    "param a :=\n",
    "    truck   10\n",
    "    car     8;\n",
    "    \n",
    "param c :=\n",
    "    truck   2000\n",
    "    car     1500;\n",
    "\n",
    "param I0 :=\n",
    "    truck   100\n",
    "    car     200;\n",
    "\n",
    "end;"
   ]
  },
  {
   "cell_type": "markdown",
   "metadata": {},
   "source": [
    "## Solving a GMPL model"
   ]
  },
  {
   "cell_type": "markdown",
   "metadata": {},
   "source": [
    "Now we can use the line magic __`%solve`__ to put the model and data together. Below, we solve the `american` model with the `american_data` data we created above, and put the results of solving this model in a variable called `solution`."
   ]
  },
  {
   "cell_type": "code",
   "execution_count": null,
   "metadata": {
    "collapsed": false,
    "scrolled": true
   },
   "outputs": [],
   "source": [
    "%solve --result=solution american american_data"
   ]
  },
  {
   "cell_type": "markdown",
   "metadata": {},
   "source": [
    "Looking at the variable `solution`, we can see a summary of the results from GLPK."
   ]
  },
  {
   "cell_type": "code",
   "execution_count": null,
   "metadata": {
    "collapsed": false,
    "scrolled": true
   },
   "outputs": [],
   "source": [
    "solution"
   ]
  },
  {
   "cell_type": "markdown",
   "metadata": {},
   "source": [
    "## Multiple data sections"
   ]
  },
  {
   "cell_type": "markdown",
   "metadata": {},
   "source": [
    "We can store multiple data sections and use them in the same notebook! \n",
    "\n",
    "To illustrate, suppose we acquired some demand information about months 4 and 5.\n",
    "\n",
    "Below, we create a data section called `american_data2` that incorporates this new data."
   ]
  },
  {
   "cell_type": "code",
   "execution_count": null,
   "metadata": {
    "collapsed": false
   },
   "outputs": [],
   "source": [
    "%%data american_data2\n",
    "\n",
    "# Sets\n",
    "set E := \"truck\" \"car\";\n",
    "set T := 1 2 3 4 5;\n",
    "\n",
    "# Parameters\n",
    "param d :\n",
    "        1   2   3   4   5 :=\n",
    "truck 400 300 500 200 300\n",
    "car   800 500 600 900 700;\n",
    "\n",
    "param a :=\n",
    "    truck   10\n",
    "    car     8;\n",
    "    \n",
    "param c :=\n",
    "    truck   2000\n",
    "    car     1500;\n",
    "\n",
    "param I0 :=\n",
    "    truck   100\n",
    "    car     200;\n",
    "    \n",
    "end;"
   ]
  },
  {
   "cell_type": "markdown",
   "metadata": {},
   "source": [
    "We can solve the same `american` model but with this new data section in a similar way:"
   ]
  },
  {
   "cell_type": "code",
   "execution_count": null,
   "metadata": {
    "collapsed": false,
    "scrolled": true
   },
   "outputs": [],
   "source": [
    "%solve --result=solution2 american american_data2"
   ]
  },
  {
   "cell_type": "markdown",
   "metadata": {},
   "source": [
    "Let's inspect the results of solving the model with this new data:"
   ]
  },
  {
   "cell_type": "code",
   "execution_count": null,
   "metadata": {
    "collapsed": false
   },
   "outputs": [],
   "source": [
    "solution2"
   ]
  },
  {
   "cell_type": "markdown",
   "metadata": {},
   "source": [
    "## More helpful utilities"
   ]
  },
  {
   "cell_type": "markdown",
   "metadata": {},
   "source": [
    "You can display all the stored data sections using __`%listdata`__:"
   ]
  },
  {
   "cell_type": "code",
   "execution_count": null,
   "metadata": {
    "collapsed": false
   },
   "outputs": [],
   "source": [
    "%listdata"
   ]
  },
  {
   "cell_type": "markdown",
   "metadata": {},
   "source": [
    "You can also inspect a stored model with __`%showdata`__. For example, to see the `american_data` data section stored in memory:"
   ]
  },
  {
   "cell_type": "code",
   "execution_count": null,
   "metadata": {
    "collapsed": false,
    "scrolled": true
   },
   "outputs": [],
   "source": [
    "%showdata american_data"
   ]
  }
 ],
 "metadata": {
  "kernelspec": {
   "display_name": "Python 3",
   "language": "python",
   "name": "python3"
  },
  "language_info": {
   "codemirror_mode": {
    "name": "ipython",
    "version": 3
   },
   "file_extension": ".py",
   "mimetype": "text/x-python",
   "name": "python",
   "nbconvert_exporter": "python",
   "pygments_lexer": "ipython3",
   "version": "3.5.2"
  }
 },
 "nbformat": 4,
 "nbformat_minor": 0
}
