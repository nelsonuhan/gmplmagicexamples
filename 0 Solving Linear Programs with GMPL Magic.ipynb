{
 "cells": [
  {
   "cell_type": "markdown",
   "metadata": {},
   "source": [
    "# Solving Linear Programs with GMPL Magic"
   ]
  },
  {
   "cell_type": "markdown",
   "metadata": {},
   "source": [
    "## What am I looking at here?"
   ]
  },
  {
   "cell_type": "markdown",
   "metadata": {},
   "source": [
    "* This is a [Jupyter Notebook](http://jupyter.org) that lets you mix code cells with GMPL and Python using __GMPL Magic__, an IPython/Jupyter magic.\n",
    "    - For details on installing GMPL Magic, visit its [GitHub page](https://github.com/nelsonuhan/gmplmagic).\n",
    "\n",
    "\n",
    "* __GMPL__ is a programming language for optimization models.\n",
    "    \n",
    "    - GMPL is also called __MathProg__.\n",
    "    - GMPL is very similar to __AMPL__, a popular commercial optimization modeling language.\n",
    "    \n",
    "    \n",
    "* GMPL Notebook uses [__PyGLPK__](https://github.com/bradfordboyle/pyglpk), a Python wrapper for [__GLPK__](https://www.gnu.org/software/glpk/) to solve models written in GMPL."
   ]
  },
  {
   "cell_type": "markdown",
   "metadata": {},
   "source": [
    "## Some useful pointers"
   ]
  },
  {
   "cell_type": "markdown",
   "metadata": {},
   "source": [
    "* The [GLPK Wikibook](https://en.wikibooks.org/wiki/GLPK) has some pointers on writing optimization models in GMPL.\n",
    "\n",
    "\n",
    "* The [GMPL Reference Manual](https://www.usna.edu/Users/math/uhan/sa305/gmpl.pdf) describes the langauge in detail."
   ]
  },
  {
   "cell_type": "markdown",
   "metadata": {},
   "source": [
    "## Before we get started..."
   ]
  },
  {
   "cell_type": "markdown",
   "metadata": {},
   "source": [
    "To __execute__ a code cell:\n",
    "\n",
    "1. Click inside a code cell\n",
    "2. Either\n",
    "    * press <key><i class=\"fa fa-step-forward\" aria-hidden=\"true\"></i></key> in the toolbar, or\n",
    "    * press Shift + Enter"
   ]
  },
  {
   "cell_type": "markdown",
   "metadata": {},
   "source": [
    "First, we need to load GMPL Magic. Execute the next code cell. "
   ]
  },
  {
   "cell_type": "code",
   "execution_count": null,
   "metadata": {
    "collapsed": false
   },
   "outputs": [],
   "source": [
    "%load_ext gmplmagic"
   ]
  },
  {
   "cell_type": "markdown",
   "metadata": {},
   "source": [
    "## An example: baking and selling cakes"
   ]
  },
  {
   "cell_type": "markdown",
   "metadata": {},
   "source": [
    "This example is based on the Farmer Jones example in \"Deterministic Operations Research: Models and Methods\" by David J. Rader (Wiley, 2010)."
   ]
  },
  {
   "cell_type": "markdown",
   "metadata": {},
   "source": [
    "* Consider the following problem:\n",
    "\n",
    "> Farmer Jones decides to supplement her income by baking and selling two types of cakes, chocolate and vanilla. Each chocolate cake sold gives a profit of \\$3, and the profit on each vanilla cake sold is \\$4. Each chocolate cake uses 4 eggs and 4 pounds of flour, while each vanilla cake uses 2 eggs and 6 pounds of flour. If Farmer Jones has only 32 eggs and 48 pounds of flour available, how many of each type of cake should Farmer Jones bake in order to maximize her profit? (For now, assume all cakes baked are sold, and fractional cakes are OK.)\n",
    "\n",
    "* We can solve Farmer Jones's problem with the following linear program:"
   ]
  },
  {
   "cell_type": "markdown",
   "metadata": {},
   "source": [
    "$$\n",
    "\\begin{alignedat}{2}\n",
    "    \\text{maximize} \\quad & 3C + 4V &\\quad& \\text{(total profit)}\\\\\n",
    "    \\text{subject to} \\quad & 4C + 2V \\le 32 &\\quad& \\text{(eggs used vs. available)}\\\\\n",
    "    & 4C + 6V \\le 48 &\\quad& \\text{(flour used vs. available)}\\\\\n",
    "    & C \\ge 0, V \\ge 0\n",
    "\\end{alignedat}\n",
    "$$"
   ]
  },
  {
   "cell_type": "markdown",
   "metadata": {},
   "source": [
    "## Defining a GMPL model"
   ]
  },
  {
   "cell_type": "markdown",
   "metadata": {},
   "source": [
    "GMPL Magic has a cell magic __`%%model`__. Below, we create a model called `farmerjones` based on the linear program above:"
   ]
  },
  {
   "cell_type": "code",
   "execution_count": null,
   "metadata": {
    "collapsed": false
   },
   "outputs": [],
   "source": [
    "%%model farmerjones\n",
    "# Define decision variables and variable bounds\n",
    "var C >= 0;\n",
    "var V >= 0;\n",
    "\n",
    "# Objective function\n",
    "maximize total_profit: 3*C + 4*V;\n",
    "\n",
    "# General constraints\n",
    "subject to eggs:\n",
    "    4*C + 2*V <= 32;\n",
    "    \n",
    "subject to flour:\n",
    "    4*C + 6*V <= 48;\n",
    "\n",
    "end;"
   ]
  },
  {
   "cell_type": "markdown",
   "metadata": {},
   "source": [
    "## Solving a GMPL model"
   ]
  },
  {
   "cell_type": "markdown",
   "metadata": {},
   "source": [
    "To solve this model, we can use the line magic __`%solve`__. Below, we solve the `farmerjones` model we created above, and put the results of solving this model in a variable called `solution`."
   ]
  },
  {
   "cell_type": "code",
   "execution_count": null,
   "metadata": {
    "collapsed": false
   },
   "outputs": [],
   "source": [
    "%solve --result=solution farmerjones"
   ]
  },
  {
   "cell_type": "markdown",
   "metadata": {},
   "source": [
    "## Using the results in Python"
   ]
  },
  {
   "cell_type": "markdown",
   "metadata": {},
   "source": [
    "Looking at the variable `solution`, we can see a summary of the results from GLPK."
   ]
  },
  {
   "cell_type": "code",
   "execution_count": null,
   "metadata": {
    "collapsed": false
   },
   "outputs": [],
   "source": [
    "solution"
   ]
  },
  {
   "cell_type": "markdown",
   "metadata": {},
   "source": [
    "In fact, we can access these results as Python variables and manipulate them however we wish! Here are a few examples:"
   ]
  },
  {
   "cell_type": "code",
   "execution_count": null,
   "metadata": {
    "collapsed": false
   },
   "outputs": [],
   "source": [
    "# Get the status of the solution\n",
    "# Possible statuses: opt, undef, feas, infeas, nofeas, unbnd\n",
    "solution.status"
   ]
  },
  {
   "cell_type": "code",
   "execution_count": null,
   "metadata": {
    "collapsed": false
   },
   "outputs": [],
   "source": [
    "# Print the objective value of the solution\n",
    "print(\"The objective value is {0}.\".format(solution.objval))"
   ]
  },
  {
   "cell_type": "code",
   "execution_count": null,
   "metadata": {
    "collapsed": false
   },
   "outputs": [],
   "source": [
    "# Plot the optimal solution as a bar graph using Matplotlib\n",
    "import matplotlib.pyplot as plt\n",
    "\n",
    "plt.bar(range(len(solution.variables)), solution.variables.values(), align='center')\n",
    "plt.xticks(range(len(solution.variables)), solution.variables.keys())\n",
    "\n",
    "plt.show()"
   ]
  },
  {
   "cell_type": "markdown",
   "metadata": {},
   "source": [
    "## Some helpful utilities"
   ]
  },
  {
   "cell_type": "markdown",
   "metadata": {},
   "source": [
    "You can display all the stored models using __`%listmodels`__:"
   ]
  },
  {
   "cell_type": "code",
   "execution_count": null,
   "metadata": {
    "collapsed": false
   },
   "outputs": [],
   "source": [
    "%listmodels"
   ]
  },
  {
   "cell_type": "markdown",
   "metadata": {},
   "source": [
    "You can also inspect a stored model with __`%showmodel`__. For example, to see the `farmerjones` model stored in memory:"
   ]
  },
  {
   "cell_type": "code",
   "execution_count": null,
   "metadata": {
    "collapsed": false
   },
   "outputs": [],
   "source": [
    "%showmodel farmerjones"
   ]
  }
 ],
 "metadata": {
  "kernelspec": {
   "display_name": "Python 3",
   "language": "python",
   "name": "python3"
  },
  "language_info": {
   "codemirror_mode": {
    "name": "ipython",
    "version": 3
   },
   "file_extension": ".py",
   "mimetype": "text/x-python",
   "name": "python",
   "nbconvert_exporter": "python",
   "pygments_lexer": "ipython3",
   "version": "3.5.2"
  }
 },
 "nbformat": 4,
 "nbformat_minor": 0
}
